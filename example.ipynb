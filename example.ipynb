{
 "cells": [
  {
   "cell_type": "markdown",
   "id": "e6f73f52",
   "metadata": {},
   "source": [
    "Before the actuall usage you want to download the stopwords for nltk by running:"
   ]
  },
  {
   "cell_type": "code",
   "execution_count": 1,
   "id": "6bb07ad0",
   "metadata": {},
   "outputs": [
    {
     "name": "stderr",
     "output_type": "stream",
     "text": [
      "[nltk_data] Downloading package stopwords to C:\\Users\\AMOR\n",
      "[nltk_data]     1\\AppData\\Roaming\\nltk_data...\n",
      "[nltk_data]   Package stopwords is already up-to-date!\n"
     ]
    },
    {
     "data": {
      "text/plain": [
       "True"
      ]
     },
     "execution_count": 1,
     "metadata": {},
     "output_type": "execute_result"
    }
   ],
   "source": [
    "import nltk\n",
    "nltk.download('stopwords')"
   ]
  },
  {
   "cell_type": "markdown",
   "id": "b758430b",
   "metadata": {},
   "source": [
    "inside a python console."
   ]
  },
  {
   "cell_type": "markdown",
   "id": "91a0cf67",
   "metadata": {},
   "source": [
    "To use AuDoLab in a project:"
   ]
  },
  {
   "cell_type": "code",
   "execution_count": 2,
   "id": "d763f19d",
   "metadata": {},
   "outputs": [],
   "source": [
    "from AuDoLab import AuDoLab"
   ]
  },
  {
   "cell_type": "markdown",
   "id": "2f6d80a0",
   "metadata": {},
   "source": [
    "Then you want to create an instance of the AuDoLab class"
   ]
  },
  {
   "cell_type": "code",
   "execution_count": 4,
   "id": "43bd4127",
   "metadata": {},
   "outputs": [],
   "source": [
    "audo = AuDoLab.AuDoLab()"
   ]
  },
  {
   "cell_type": "markdown",
   "id": "cd6562c2",
   "metadata": {},
   "source": [
    "In this example we used publicly available data from the nltk package:"
   ]
  },
  {
   "cell_type": "code",
   "execution_count": 5,
   "id": "ed6abd8c",
   "metadata": {},
   "outputs": [],
   "source": [
    "from nltk.corpus import reuters\n",
    "import numpy as np\n",
    "import pandas as pd\n",
    "\n",
    "data = []\n",
    "\n",
    "for fileid in reuters.fileids():\n",
    "    tag, filename = fileid.split(\"/\")\n",
    "    data.append(\n",
    "        (filename,\n",
    "         \", \".join(\n",
    "             reuters.categories(fileid)),\n",
    "            reuters.raw(fileid)))\n",
    "\n",
    "data = pd.DataFrame(data, columns=[\"filename\", \"categories\", \"text\"])"
   ]
  },
  {
   "cell_type": "markdown",
   "id": "7521fb47",
   "metadata": {},
   "source": [
    "Then you want to scrape abstracts, e.g. from IEEE with the abstract scraper (when using it the the IEEE scraper the first time, pypeteer will be downloaded automatically):"
   ]
  },
  {
   "cell_type": "code",
   "execution_count": 7,
   "id": "850ec1dc",
   "metadata": {},
   "outputs": [
    {
     "name": "stdout",
     "output_type": "stream",
     "text": [
      "The algorithm is iterating through 2 pages\n",
      "Total number of abstracts that will be scraped: 203\n"
     ]
    },
    {
     "name": "stderr",
     "output_type": "stream",
     "text": [
      "100%|████████████████████████████████████████████████████████████████████████████████| 203/203 [02:08<00:00,  1.58it/s]\n"
     ]
    }
   ],
   "source": [
    "scraped_documents = audo.get_ieee(\"https://ieeexplore.ieee.org/search/searchresult.jsp?newsearch=true&queryText=cotton&highlight=true&returnFacets=ALL&returnType=SEARCH&matchPubs=true&rowsPerPage=100&pageNumber=1\", pages=1)"
   ]
  },
  {
   "cell_type": "markdown",
   "id": "51724ccf",
   "metadata": {},
   "source": [
    "The data as well as the scraped papers need to be preprocessed before use in the\n",
    "classifier:"
   ]
  },
  {
   "cell_type": "code",
   "execution_count": 8,
   "id": "31e467f4",
   "metadata": {},
   "outputs": [
    {
     "name": "stderr",
     "output_type": "stream",
     "text": [
      "100%|██████████████████████████████████████████████████████████████████████████| 10788/10788 [00:04<00:00, 2316.42it/s]\n",
      "100%|██████████████████████████████████████████████████████████████████████████████| 181/181 [00:00<00:00, 3213.22it/s]\n"
     ]
    }
   ],
   "source": [
    "preprocessed_target = audo.text_cleaning(data=data, column=\"text\")\n",
    "\n",
    "preprocessed_paper = audo.text_cleaning(\n",
    "    data=scraped_documents, column=\"abstract\")\n",
    "\n",
    "target_tfidf, training_tfidf = audo.tf_idf(\n",
    "    data=preprocessed_target,\n",
    "    papers=preprocessed_paper,\n",
    "    data_column=\"lemma\",\n",
    "    papers_column=\"lemma\",\n",
    "    features=100000,\n",
    ")"
   ]
  },
  {
   "cell_type": "markdown",
   "id": "d0423ba3",
   "metadata": {},
   "source": [
    "Afterwards we can train and use the classifiers and choose the desired\n",
    "one:"
   ]
  },
  {
   "cell_type": "code",
   "execution_count": 9,
   "id": "3c8380ec",
   "metadata": {},
   "outputs": [
    {
     "name": "stdout",
     "output_type": "stream",
     "text": [
      "nu: 0.381 data predicted: 32 training_data predicted: 177\n"
     ]
    }
   ],
   "source": [
    "o_svm_result = audo.one_class_svm(\n",
    "    training=training_tfidf,\n",
    "    predicting=target_tfidf,\n",
    "    nus=np.round(np.arange(0.001, 0.5, 0.01), 7),\n",
    "    quality_train=0.9,\n",
    "    min_pred=0.001,\n",
    "    max_pred=0.05,\n",
    ")\n",
    "result = audo.choose_classifier(preprocessed_target, o_svm_result, 0)"
   ]
  },
  {
   "cell_type": "markdown",
   "id": "3eba88ec",
   "metadata": {},
   "source": [
    "And finally you can estimate the topics of the data:"
   ]
  },
  {
   "cell_type": "code",
   "execution_count": 10,
   "id": "e65fde86",
   "metadata": {},
   "outputs": [],
   "source": [
    "lda_target = audo.lda_modeling(data=result, num_topics=5)\n",
    "\n",
    "audo.lda_visualize_topics(type=\"pyldavis\")"
   ]
  },
  {
   "cell_type": "code",
   "execution_count": null,
   "id": "4f5e9eb3",
   "metadata": {},
   "outputs": [],
   "source": []
  }
 ],
 "metadata": {
  "kernelspec": {
   "display_name": "Python [conda env:lda] *",
   "language": "python",
   "name": "conda-env-lda-py"
  },
  "language_info": {
   "codemirror_mode": {
    "name": "ipython",
    "version": 3
   },
   "file_extension": ".py",
   "mimetype": "text/x-python",
   "name": "python",
   "nbconvert_exporter": "python",
   "pygments_lexer": "ipython3",
   "version": "3.7.10"
  }
 },
 "nbformat": 4,
 "nbformat_minor": 5
}
